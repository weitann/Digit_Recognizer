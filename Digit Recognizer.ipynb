{
 "cells": [
  {
   "cell_type": "code",
   "execution_count": 1,
   "metadata": {},
   "outputs": [
    {
     "name": "stderr",
     "output_type": "stream",
     "text": [
      "C:\\Users\\Wei Tan\\Anaconda3\\lib\\site-packages\\h5py\\__init__.py:36: FutureWarning: Conversion of the second argument of issubdtype from `float` to `np.floating` is deprecated. In future, it will be treated as `np.float64 == np.dtype(float).type`.\n",
      "  from ._conv import register_converters as _register_converters\n",
      "Using TensorFlow backend.\n"
     ]
    }
   ],
   "source": [
    "import pandas as pd\n",
    "import numpy as np\n",
    "import tensorflow as tf\n",
    "from tensorflow import keras\n",
    "import matplotlib.pyplot as plt\n",
    "from sklearn.model_selection import train_test_split\n",
    "from collections import Counter \n",
    "from keras import models, regularizers, layers, optimizers, losses, metrics\n",
    "from keras.models import Sequential\n",
    "from keras.layers import Dense, Dropout\n",
    "from keras.utils import np_utils, to_categorical\n",
    "from keras.preprocessing.image import ImageDataGenerator\n",
    "from keras.layers import Conv2D, MaxPooling2D, Flatten"
   ]
  },
  {
   "cell_type": "code",
   "execution_count": 2,
   "metadata": {},
   "outputs": [
    {
     "data": {
      "text/plain": [
       "(42000, 785)"
      ]
     },
     "execution_count": 2,
     "metadata": {},
     "output_type": "execute_result"
    }
   ],
   "source": [
    "labeled_df = pd.read_csv(\"train.csv\")\n",
    "test_df = pd.read_csv(\"test.csv\")\n",
    "labeled_df.shape"
   ]
  },
  {
   "cell_type": "code",
   "execution_count": 3,
   "metadata": {},
   "outputs": [
    {
     "data": {
      "text/html": [
       "<div>\n",
       "<style scoped>\n",
       "    .dataframe tbody tr th:only-of-type {\n",
       "        vertical-align: middle;\n",
       "    }\n",
       "\n",
       "    .dataframe tbody tr th {\n",
       "        vertical-align: top;\n",
       "    }\n",
       "\n",
       "    .dataframe thead th {\n",
       "        text-align: right;\n",
       "    }\n",
       "</style>\n",
       "<table border=\"1\" class=\"dataframe\">\n",
       "  <thead>\n",
       "    <tr style=\"text-align: right;\">\n",
       "      <th></th>\n",
       "      <th>label</th>\n",
       "      <th>pixel0</th>\n",
       "      <th>pixel1</th>\n",
       "      <th>pixel2</th>\n",
       "      <th>pixel3</th>\n",
       "      <th>pixel4</th>\n",
       "      <th>pixel5</th>\n",
       "      <th>pixel6</th>\n",
       "      <th>pixel7</th>\n",
       "      <th>pixel8</th>\n",
       "      <th>...</th>\n",
       "      <th>pixel774</th>\n",
       "      <th>pixel775</th>\n",
       "      <th>pixel776</th>\n",
       "      <th>pixel777</th>\n",
       "      <th>pixel778</th>\n",
       "      <th>pixel779</th>\n",
       "      <th>pixel780</th>\n",
       "      <th>pixel781</th>\n",
       "      <th>pixel782</th>\n",
       "      <th>pixel783</th>\n",
       "    </tr>\n",
       "  </thead>\n",
       "  <tbody>\n",
       "    <tr>\n",
       "      <th>0</th>\n",
       "      <td>1</td>\n",
       "      <td>0</td>\n",
       "      <td>0</td>\n",
       "      <td>0</td>\n",
       "      <td>0</td>\n",
       "      <td>0</td>\n",
       "      <td>0</td>\n",
       "      <td>0</td>\n",
       "      <td>0</td>\n",
       "      <td>0</td>\n",
       "      <td>...</td>\n",
       "      <td>0</td>\n",
       "      <td>0</td>\n",
       "      <td>0</td>\n",
       "      <td>0</td>\n",
       "      <td>0</td>\n",
       "      <td>0</td>\n",
       "      <td>0</td>\n",
       "      <td>0</td>\n",
       "      <td>0</td>\n",
       "      <td>0</td>\n",
       "    </tr>\n",
       "    <tr>\n",
       "      <th>1</th>\n",
       "      <td>0</td>\n",
       "      <td>0</td>\n",
       "      <td>0</td>\n",
       "      <td>0</td>\n",
       "      <td>0</td>\n",
       "      <td>0</td>\n",
       "      <td>0</td>\n",
       "      <td>0</td>\n",
       "      <td>0</td>\n",
       "      <td>0</td>\n",
       "      <td>...</td>\n",
       "      <td>0</td>\n",
       "      <td>0</td>\n",
       "      <td>0</td>\n",
       "      <td>0</td>\n",
       "      <td>0</td>\n",
       "      <td>0</td>\n",
       "      <td>0</td>\n",
       "      <td>0</td>\n",
       "      <td>0</td>\n",
       "      <td>0</td>\n",
       "    </tr>\n",
       "    <tr>\n",
       "      <th>2</th>\n",
       "      <td>1</td>\n",
       "      <td>0</td>\n",
       "      <td>0</td>\n",
       "      <td>0</td>\n",
       "      <td>0</td>\n",
       "      <td>0</td>\n",
       "      <td>0</td>\n",
       "      <td>0</td>\n",
       "      <td>0</td>\n",
       "      <td>0</td>\n",
       "      <td>...</td>\n",
       "      <td>0</td>\n",
       "      <td>0</td>\n",
       "      <td>0</td>\n",
       "      <td>0</td>\n",
       "      <td>0</td>\n",
       "      <td>0</td>\n",
       "      <td>0</td>\n",
       "      <td>0</td>\n",
       "      <td>0</td>\n",
       "      <td>0</td>\n",
       "    </tr>\n",
       "    <tr>\n",
       "      <th>3</th>\n",
       "      <td>4</td>\n",
       "      <td>0</td>\n",
       "      <td>0</td>\n",
       "      <td>0</td>\n",
       "      <td>0</td>\n",
       "      <td>0</td>\n",
       "      <td>0</td>\n",
       "      <td>0</td>\n",
       "      <td>0</td>\n",
       "      <td>0</td>\n",
       "      <td>...</td>\n",
       "      <td>0</td>\n",
       "      <td>0</td>\n",
       "      <td>0</td>\n",
       "      <td>0</td>\n",
       "      <td>0</td>\n",
       "      <td>0</td>\n",
       "      <td>0</td>\n",
       "      <td>0</td>\n",
       "      <td>0</td>\n",
       "      <td>0</td>\n",
       "    </tr>\n",
       "    <tr>\n",
       "      <th>4</th>\n",
       "      <td>0</td>\n",
       "      <td>0</td>\n",
       "      <td>0</td>\n",
       "      <td>0</td>\n",
       "      <td>0</td>\n",
       "      <td>0</td>\n",
       "      <td>0</td>\n",
       "      <td>0</td>\n",
       "      <td>0</td>\n",
       "      <td>0</td>\n",
       "      <td>...</td>\n",
       "      <td>0</td>\n",
       "      <td>0</td>\n",
       "      <td>0</td>\n",
       "      <td>0</td>\n",
       "      <td>0</td>\n",
       "      <td>0</td>\n",
       "      <td>0</td>\n",
       "      <td>0</td>\n",
       "      <td>0</td>\n",
       "      <td>0</td>\n",
       "    </tr>\n",
       "  </tbody>\n",
       "</table>\n",
       "<p>5 rows × 785 columns</p>\n",
       "</div>"
      ],
      "text/plain": [
       "   label  pixel0  pixel1  pixel2  pixel3  pixel4  pixel5  pixel6  pixel7  \\\n",
       "0      1       0       0       0       0       0       0       0       0   \n",
       "1      0       0       0       0       0       0       0       0       0   \n",
       "2      1       0       0       0       0       0       0       0       0   \n",
       "3      4       0       0       0       0       0       0       0       0   \n",
       "4      0       0       0       0       0       0       0       0       0   \n",
       "\n",
       "   pixel8    ...     pixel774  pixel775  pixel776  pixel777  pixel778  \\\n",
       "0       0    ...            0         0         0         0         0   \n",
       "1       0    ...            0         0         0         0         0   \n",
       "2       0    ...            0         0         0         0         0   \n",
       "3       0    ...            0         0         0         0         0   \n",
       "4       0    ...            0         0         0         0         0   \n",
       "\n",
       "   pixel779  pixel780  pixel781  pixel782  pixel783  \n",
       "0         0         0         0         0         0  \n",
       "1         0         0         0         0         0  \n",
       "2         0         0         0         0         0  \n",
       "3         0         0         0         0         0  \n",
       "4         0         0         0         0         0  \n",
       "\n",
       "[5 rows x 785 columns]"
      ]
     },
     "execution_count": 3,
     "metadata": {},
     "output_type": "execute_result"
    }
   ],
   "source": [
    "labeled_df.head()"
   ]
  },
  {
   "cell_type": "code",
   "execution_count": 4,
   "metadata": {},
   "outputs": [],
   "source": [
    "labels = labeled_df[\"label\"]\n",
    "pixels = labeled_df.drop(columns=\"label\")"
   ]
  },
  {
   "cell_type": "code",
   "execution_count": 5,
   "metadata": {},
   "outputs": [
    {
     "data": {
      "text/plain": [
       "(42000, 784)"
      ]
     },
     "execution_count": 5,
     "metadata": {},
     "output_type": "execute_result"
    }
   ],
   "source": [
    "pixels.shape"
   ]
  },
  {
   "cell_type": "markdown",
   "metadata": {},
   "source": [
    "### Split into train and validation set for cv"
   ]
  },
  {
   "cell_type": "code",
   "execution_count": 6,
   "metadata": {},
   "outputs": [
    {
     "data": {
      "text/plain": [
       "((37800, 784), (4200, 784))"
      ]
     },
     "execution_count": 6,
     "metadata": {},
     "output_type": "execute_result"
    }
   ],
   "source": [
    "train_X, valid_X, train_y, valid_y = train_test_split(pixels, labels, test_size=0.1, random_state=2019)\n",
    "train_X.shape, valid_X.shape"
   ]
  },
  {
   "cell_type": "markdown",
   "metadata": {},
   "source": [
    "### Observe samples"
   ]
  },
  {
   "cell_type": "code",
   "execution_count": 7,
   "metadata": {},
   "outputs": [],
   "source": [
    "train_disp = np.array(train_X).reshape(37800, 28, 28)\n",
    "valid_disp = np.array(valid_X).reshape(4200, 28, 28)"
   ]
  },
  {
   "cell_type": "code",
   "execution_count": 8,
   "metadata": {},
   "outputs": [
    {
     "name": "stdout",
     "output_type": "stream",
     "text": [
      "6\n"
     ]
    },
    {
     "data": {
      "text/plain": [
       "<matplotlib.image.AxesImage at 0x18a3540f9e8>"
      ]
     },
     "execution_count": 8,
     "metadata": {},
     "output_type": "execute_result"
    },
    {
     "data": {
      "image/png": "[encoded data removed]",
      "text/plain": [
       "<Figure size 432x288 with 1 Axes>"
      ]
     },
     "metadata": {},
     "output_type": "display_data"
    }
   ],
   "source": [
    "select_idx = 0\n",
    "print(train_y.iloc[select_idx])\n",
    "plt.imshow(train_disp[select_idx], cmap=\"binary\")"
   ]
  },
  {
   "cell_type": "code",
   "execution_count": 9,
   "metadata": {},
   "outputs": [
    {
     "name": "stdout",
     "output_type": "stream",
     "text": [
      "4\n"
     ]
    },
    {
     "data": {
      "text/plain": [
       "<matplotlib.image.AxesImage at 0x18a35262470>"
      ]
     },
     "execution_count": 9,
     "metadata": {},
     "output_type": "execute_result"
    },
    {
     "data": {
      "image/png": "[encoded data removed]",
      "text/plain": [
       "<Figure size 432x288 with 1 Axes>"
      ]
     },
     "metadata": {},
     "output_type": "display_data"
    }
   ],
   "source": [
    "select_idx = 0\n",
    "print(valid_y.iloc[select_idx])\n",
    "plt.imshow(valid_disp[select_idx], cmap=\"binary\")"
   ]
  },
  {
   "cell_type": "code",
   "execution_count": 10,
   "metadata": {},
   "outputs": [
    {
     "data": {
      "text/plain": [
       "Counter({6: 3730,\n",
       "         2: 3780,\n",
       "         9: 3779,\n",
       "         8: 3606,\n",
       "         3: 3912,\n",
       "         7: 3949,\n",
       "         1: 4256,\n",
       "         5: 3401,\n",
       "         4: 3669,\n",
       "         0: 3718})"
      ]
     },
     "execution_count": 10,
     "metadata": {},
     "output_type": "execute_result"
    }
   ],
   "source": [
    "Counter(train_y)"
   ]
  },
  {
   "cell_type": "markdown",
   "metadata": {},
   "source": [
    "## Process pixels and labels for Kera feed\n",
    "### 1 Normalize pixels"
   ]
  },
  {
   "cell_type": "code",
   "execution_count": 11,
   "metadata": {},
   "outputs": [
    {
     "data": {
      "text/plain": [
       "(0, 255)"
      ]
     },
     "execution_count": 11,
     "metadata": {},
     "output_type": "execute_result"
    }
   ],
   "source": [
    "train_disp.min(), train_disp.max()"
   ]
  },
  {
   "cell_type": "code",
   "execution_count": 12,
   "metadata": {},
   "outputs": [],
   "source": [
    "train_X = train_X / 255.\n",
    "valid_X = valid_X / 255."
   ]
  },
  {
   "cell_type": "markdown",
   "metadata": {},
   "source": [
    "### 2 Convert labels to one hot vector"
   ]
  },
  {
   "cell_type": "code",
   "execution_count": 13,
   "metadata": {},
   "outputs": [
    {
     "data": {
      "text/plain": [
       "((37800, 10), (4200, 10))"
      ]
     },
     "execution_count": 13,
     "metadata": {},
     "output_type": "execute_result"
    }
   ],
   "source": [
    "train_y = keras.utils.to_categorical(train_y) \n",
    "valid_y = keras.utils.to_categorical(valid_y) \n",
    "train_y.shape, valid_y.shape"
   ]
  },
  {
   "cell_type": "markdown",
   "metadata": {},
   "source": [
    "### 3 Reshape "
   ]
  },
  {
   "cell_type": "code",
   "execution_count": 14,
   "metadata": {},
   "outputs": [],
   "source": [
    "train_disp = np.array(train_disp).reshape(37800, 28, 28, 1)\n",
    "valid_disp = np.array(valid_disp).reshape(4200, 28, 28, 1)"
   ]
  },
  {
   "cell_type": "markdown",
   "metadata": {},
   "source": [
    "## Keras model"
   ]
  },
  {
   "cell_type": "markdown",
   "metadata": {},
   "source": [
    "### Without data augmentation"
   ]
  },
  {
   "cell_type": "code",
   "execution_count": 16,
   "metadata": {},
   "outputs": [
    {
     "name": "stdout",
     "output_type": "stream",
     "text": [
      "Train on 37800 samples, validate on 4200 samples\n",
      "Epoch 1/25\n",
      "37800/37800 [==============================] - 160s 4ms/step - loss: 6.8133 - acc: 0.5586 - val_loss: 0.2356 - val_acc: 0.9274\n",
      "Epoch 2/25\n",
      "37800/37800 [==============================] - 154s 4ms/step - loss: 0.1424 - acc: 0.9584 - val_loss: 0.0589 - val_acc: 0.9810\n",
      "Epoch 3/25\n",
      "37800/37800 [==============================] - 161s 4ms/step - loss: 0.0581 - acc: 0.9820 - val_loss: 0.0515 - val_acc: 0.9831\n",
      "Epoch 4/25\n",
      "37800/37800 [==============================] - 157s 4ms/step - loss: 0.0415 - acc: 0.9863 - val_loss: 0.0568 - val_acc: 0.9838\n",
      "Epoch 5/25\n",
      "37800/37800 [==============================] - 158s 4ms/step - loss: 0.0331 - acc: 0.9891 - val_loss: 0.0552 - val_acc: 0.9852\n",
      "Epoch 6/25\n",
      "37800/37800 [==============================] - 159s 4ms/step - loss: 0.0246 - acc: 0.9919 - val_loss: 0.0571 - val_acc: 0.9831\n",
      "Epoch 7/25\n",
      "37800/37800 [==============================] - 153s 4ms/step - loss: 0.0224 - acc: 0.9928 - val_loss: 0.0644 - val_acc: 0.9848\n",
      "Epoch 8/25\n",
      "37800/37800 [==============================] - 157s 4ms/step - loss: 0.0240 - acc: 0.9928 - val_loss: 0.0647 - val_acc: 0.9836\n",
      "Epoch 9/25\n",
      "37800/37800 [==============================] - 155s 4ms/step - loss: 0.0194 - acc: 0.9934 - val_loss: 0.0782 - val_acc: 0.9833\n",
      "Epoch 10/25\n",
      "37800/37800 [==============================] - 153s 4ms/step - loss: 0.0198 - acc: 0.9936 - val_loss: 0.0672 - val_acc: 0.9855\n",
      "Epoch 11/25\n",
      "37800/37800 [==============================] - 154s 4ms/step - loss: 0.0194 - acc: 0.9938 - val_loss: 0.0587 - val_acc: 0.9845\n",
      "Epoch 12/25\n",
      "37800/37800 [==============================] - 193s 5ms/step - loss: 0.0174 - acc: 0.9946 - val_loss: 0.0811 - val_acc: 0.9840\n",
      "Epoch 13/25\n",
      "37800/37800 [==============================] - 196s 5ms/step - loss: 0.0134 - acc: 0.9955 - val_loss: 0.0780 - val_acc: 0.9845\n",
      "Epoch 14/25\n",
      "37800/37800 [==============================] - 205s 5ms/step - loss: 0.0189 - acc: 0.9945 - val_loss: 0.0656 - val_acc: 0.9867\n",
      "Epoch 15/25\n",
      "37800/37800 [==============================] - 201s 5ms/step - loss: 0.0143 - acc: 0.9953 - val_loss: 0.0550 - val_acc: 0.9864\n",
      "Epoch 16/25\n",
      "37800/37800 [==============================] - 211s 6ms/step - loss: 0.0137 - acc: 0.9953 - val_loss: 0.0640 - val_acc: 0.9876\n",
      "Epoch 17/25\n",
      "37800/37800 [==============================] - 197s 5ms/step - loss: 0.0176 - acc: 0.9949 - val_loss: 0.0813 - val_acc: 0.9819\n",
      "Epoch 18/25\n",
      "37800/37800 [==============================] - 203s 5ms/step - loss: 0.0145 - acc: 0.9958 - val_loss: 0.0717 - val_acc: 0.9852\n",
      "Epoch 19/25\n",
      "37800/37800 [==============================] - 201s 5ms/step - loss: 0.0130 - acc: 0.9962 - val_loss: 0.0745 - val_acc: 0.9871\n",
      "Epoch 20/25\n",
      "37800/37800 [==============================] - 200s 5ms/step - loss: 0.0147 - acc: 0.9955 - val_loss: 0.0761 - val_acc: 0.9881\n",
      "Epoch 21/25\n",
      "37800/37800 [==============================] - 30867s 817ms/step - loss: 0.0140 - acc: 0.9957 - val_loss: 0.0683 - val_acc: 0.9857\n",
      "Epoch 22/25\n",
      "37800/37800 [==============================] - 167s 4ms/step - loss: 0.0128 - acc: 0.9961 - val_loss: 0.0719 - val_acc: 0.9890\n",
      "Epoch 23/25\n",
      "37800/37800 [==============================] - 162s 4ms/step - loss: 0.0152 - acc: 0.9952 - val_loss: 0.0806 - val_acc: 0.9833\n",
      "Epoch 24/25\n",
      "37800/37800 [==============================] - 175s 5ms/step - loss: 0.0102 - acc: 0.9967 - val_loss: 0.0916 - val_acc: 0.9855\n",
      "Epoch 25/25\n",
      "37800/37800 [==============================] - 178s 5ms/step - loss: 0.0115 - acc: 0.9969 - val_loss: 0.0755 - val_acc: 0.9879\n"
     ]
    }
   ],
   "source": [
    "model = Sequential()\n",
    "model.add(Conv2D(32, kernel_size=(3, 3), activation='relu', input_shape=(28, 28, 1)))\n",
    "model.add(Conv2D(64, (3, 3), activation='relu'))\n",
    "model.add(MaxPooling2D(pool_size=(2, 2)))\n",
    "model.add(Dropout(0.2))\n",
    "model.add(Flatten())\n",
    "model.add(Dense(128, activation='relu'))\n",
    "model.add(Dropout(0.2))\n",
    "model.add(Dense(10, activation='softmax'))\n",
    "\n",
    "model.compile(loss=keras.losses.categorical_crossentropy, optimizer='adam', metrics=['accuracy'])\n",
    "\n",
    "history1 = model.fit(train_disp, train_y,  validation_data = (valid_disp, valid_y), batch_size=128, epochs=25, verbose=1)"
   ]
  },
  {
   "cell_type": "code",
   "execution_count": 19,
   "metadata": {},
   "outputs": [
    {
     "data": {
      "image/png": "[encoded data removed]",
      "text/plain": [
       "<Figure size 432x288 with 1 Axes>"
      ]
     },
     "metadata": {},
     "output_type": "display_data"
    },
    {
     "data": {
      "image/png": "[encoded data removed]",
      "text/plain": [
       "<Figure size 432x288 with 1 Axes>"
      ]
     },
     "metadata": {},
     "output_type": "display_data"
    }
   ],
   "source": [
    "plt.plot(history1.history['acc'])\n",
    "plt.plot(history1.history['val_acc'])\n",
    "plt.title('Model accuracy')\n",
    "plt.ylabel('Accuracy')\n",
    "plt.xlabel('Epoch')\n",
    "plt.legend(['Train', 'Test'], loc='upper left')\n",
    "plt.show()\n",
    "\n",
    "# Plot training & validation loss values\n",
    "plt.plot(history1.history['loss'])\n",
    "plt.plot(history1.history['val_loss'])\n",
    "plt.title('Model loss')\n",
    "plt.ylabel('Loss')\n",
    "plt.xlabel('Epoch')\n",
    "plt.legend(['Train', 'Test'], loc='upper left')\n",
    "plt.show()"
   ]
  },
  {
   "cell_type": "markdown",
   "metadata": {},
   "source": [
    "### With a different model and data augmentation"
   ]
  },
  {
   "cell_type": "code",
   "execution_count": 20,
   "metadata": {},
   "outputs": [
    {
     "name": "stdout",
     "output_type": "stream",
     "text": [
      "_________________________________________________________________\n",
      "Layer (type)                 Output Shape              Param #   \n",
      "=================================================================\n",
      "conv2d_5 (Conv2D)            (None, 26, 26, 32)        320       \n",
      "_________________________________________________________________\n",
      "max_pooling2d_3 (MaxPooling2 (None, 13, 13, 32)        0         \n",
      "_________________________________________________________________\n",
      "conv2d_6 (Conv2D)            (None, 11, 11, 64)        18496     \n",
      "_________________________________________________________________\n",
      "max_pooling2d_4 (MaxPooling2 (None, 5, 5, 64)          0         \n",
      "_________________________________________________________________\n",
      "conv2d_7 (Conv2D)            (None, 3, 3, 64)          36928     \n",
      "_________________________________________________________________\n",
      "flatten_3 (Flatten)          (None, 576)               0         \n",
      "_________________________________________________________________\n",
      "dense_5 (Dense)              (None, 100)               57700     \n",
      "_________________________________________________________________\n",
      "dropout_5 (Dropout)          (None, 100)               0         \n",
      "_________________________________________________________________\n",
      "dense_6 (Dense)              (None, 100)               10100     \n",
      "_________________________________________________________________\n",
      "dropout_6 (Dropout)          (None, 100)               0         \n",
      "_________________________________________________________________\n",
      "dense_7 (Dense)              (None, 10)                1010      \n",
      "=================================================================\n",
      "Total params: 124,554\n",
      "Trainable params: 124,554\n",
      "Non-trainable params: 0\n",
      "_________________________________________________________________\n",
      "None\n"
     ]
    }
   ],
   "source": [
    "model = Sequential()\n",
    "model.add(layers.Conv2D(32, (3, 3), activation='relu', input_shape=(28, 28, 1)))\n",
    "model.add(layers.MaxPooling2D((2, 2)))\n",
    "model.add(layers.Conv2D(64, (3, 3), activation='relu'))\n",
    "model.add(layers.MaxPooling2D((2, 2)))\n",
    "model.add(layers.Conv2D(64, (3, 3), activation='relu'))\n",
    "# model.add(layers.Dropout(0.3))\n",
    "model.add(layers.Flatten())\n",
    "# model.add(layers.Dense(64, activation='relu'))\n",
    "model.add(Dense(units=100, activation='relu'  ))\n",
    "model.add(Dropout(0.1))\n",
    "model.add(Dense(units=100, activation='relu'  ))\n",
    "model.add(Dropout(0.3))\n",
    "model.add(layers.Dense(10, activation='softmax'))\n",
    "model.compile(optimizer='adam',loss='categorical_crossentropy',metrics=['accuracy'])\n",
    "print(model.summary())"
   ]
  },
  {
   "cell_type": "code",
   "execution_count": 21,
   "metadata": {},
   "outputs": [
    {
     "name": "stdout",
     "output_type": "stream",
     "text": [
      "Epoch 1/5\n",
      "2160/2160 [==============================] - 152s 71ms/step - loss: 0.1809 - acc: 0.9439 - val_loss: 0.3310 - val_acc: 0.9783\n",
      "Epoch 2/5\n",
      "2160/2160 [==============================] - 146s 67ms/step - loss: 0.0647 - acc: 0.9816 - val_loss: 0.2296 - val_acc: 0.9855\n",
      "Epoch 3/5\n",
      "2160/2160 [==============================] - 146s 68ms/step - loss: 0.0486 - acc: 0.9858 - val_loss: 0.2059 - val_acc: 0.9867\n",
      "Epoch 4/5\n",
      "2160/2160 [==============================] - 141s 65ms/step - loss: 0.0395 - acc: 0.9881 - val_loss: 0.2554 - val_acc: 0.9838loss: 0.039\n",
      "Epoch 5/5\n",
      "2160/2160 [==============================] - 133s 62ms/step - loss: 0.0325 - acc: 0.9907 - val_loss: 0.2322 - val_acc: 0.9850\n"
     ]
    },
    {
     "data": {
      "image/png": "[encoded data removed]",
      "text/plain": [
       "<Figure size 432x288 with 1 Axes>"
      ]
     },
     "metadata": {},
     "output_type": "display_data"
    },
    {
     "data": {
      "image/png": "[encoded data removed]",
      "text/plain": [
       "<Figure size 432x288 with 1 Axes>"
      ]
     },
     "metadata": {},
     "output_type": "display_data"
    }
   ],
   "source": [
    "train_X_original = np.array(train_disp, copy=True) \n",
    "train_y_original = np.array(train_y, copy=True) \n",
    "\n",
    "datagen = ImageDataGenerator(\n",
    "    featurewise_center=True,\n",
    "    featurewise_std_normalization=True,\n",
    "    rotation_range=20,\n",
    "    )\n",
    "\n",
    "datagen.fit(train_disp)\n",
    "\n",
    "# Concatenating the old data with the augmented data\n",
    "result_x  = np.concatenate((train_disp, train_X_original), axis=0)\n",
    "result_y  = np.concatenate((train_y, train_y_original), axis=0)\n",
    "\n",
    "\n",
    "# fits the model on batches with real-time data augmentation:\n",
    "history = model.fit_generator(datagen.flow(result_x, result_y, batch_size=35),\n",
    "                              steps_per_epoch=result_x.shape[0] / 35,\n",
    "                              validation_data = (valid_disp, valid_y),\n",
    "                              epochs=5)\n",
    "\n",
    "# Plot training & validation accuracy values\n",
    "plt.plot(history.history['acc'])\n",
    "plt.plot(history.history['val_acc'])\n",
    "plt.title('Model accuracy')\n",
    "plt.ylabel('Accuracy')\n",
    "plt.xlabel('Epoch')\n",
    "plt.legend(['Train', 'Test'], loc='upper left')\n",
    "plt.show()\n",
    "\n",
    "# Plot training & validation loss values\n",
    "plt.plot(history.history['loss'])\n",
    "plt.plot(history.history['val_loss'])\n",
    "plt.title('Model loss')\n",
    "plt.ylabel('Loss')\n",
    "plt.xlabel('Epoch')\n",
    "plt.legend(['Train', 'Test'], loc='upper left')\n",
    "plt.show()"
   ]
  },
  {
   "cell_type": "code",
   "execution_count": 124,
   "metadata": {},
   "outputs": [
    {
     "name": "stdout",
     "output_type": "stream",
     "text": [
      "4200/4200 [==============================] - 2s 452us/step\n",
      "[1.1490329504013062, 0.9276190476190476]\n"
     ]
    }
   ],
   "source": [
    "scores = model.evaluate(valid_disp, valid_y)\n",
    "print(scores)"
   ]
  },
  {
   "cell_type": "markdown",
   "metadata": {},
   "source": [
    "### Test model #3"
   ]
  },
  {
   "cell_type": "code",
   "execution_count": 22,
   "metadata": {},
   "outputs": [
    {
     "name": "stdout",
     "output_type": "stream",
     "text": [
      "Epoch 1/10\n",
      "2160/2160 [==============================] - 134s 62ms/step - loss: 0.0294 - acc: 0.9915 - val_loss: 0.3136 - val_acc: 0.9798\n",
      "Epoch 2/10\n",
      "2160/2160 [==============================] - 142s 66ms/step - loss: 0.0279 - acc: 0.9915 - val_loss: 0.2865 - val_acc: 0.9817\n",
      "Epoch 3/10\n",
      "2160/2160 [==============================] - 144s 67ms/step - loss: 0.0250 - acc: 0.9929 - val_loss: 0.3551 - val_acc: 0.9774\n",
      "Epoch 4/10\n",
      "2160/2160 [==============================] - 143s 66ms/step - loss: 0.0238 - acc: 0.9931 - val_loss: 0.2896 - val_acc: 0.9819\n",
      "Epoch 5/10\n",
      "2160/2160 [==============================] - 136s 63ms/step - loss: 0.0219 - acc: 0.9934 - val_loss: 0.3087 - val_acc: 0.9805\n",
      "Epoch 6/10\n",
      "2160/2160 [==============================] - 128s 59ms/step - loss: 0.0214 - acc: 0.9942 - val_loss: 0.2438 - val_acc: 0.9840\n",
      "Epoch 7/10\n",
      "2160/2160 [==============================] - 139s 64ms/step - loss: 0.0184 - acc: 0.9949 - val_loss: 0.3573 - val_acc: 0.9769\n",
      "Epoch 8/10\n",
      "2160/2160 [==============================] - 154s 71ms/step - loss: 0.0193 - acc: 0.9947 - val_loss: 0.6268 - val_acc: 0.9605\n",
      "Epoch 9/10\n",
      "2160/2160 [==============================] - 156s 72ms/step - loss: 0.0171 - acc: 0.9952 - val_loss: 0.3841 - val_acc: 0.9760\n",
      "Epoch 10/10\n",
      "2160/2160 [==============================] - 145s 67ms/step - loss: 0.0167 - acc: 0.9951 - val_loss: 0.2083 - val_acc: 0.9867\n"
     ]
    },
    {
     "data": {
      "image/png": "[encoded data removed]",
      "text/plain": [
       "<Figure size 432x288 with 1 Axes>"
      ]
     },
     "metadata": {},
     "output_type": "display_data"
    },
    {
     "data": {
      "image/png": "[encoded data removed]",
      "text/plain": [
       "<Figure size 432x288 with 1 Axes>"
      ]
     },
     "metadata": {},
     "output_type": "display_data"
    }
   ],
   "source": [
    "# test by changing epoch to 10\n",
    "history = model.fit_generator(datagen.flow(result_x, result_y, batch_size=35),\n",
    "                              steps_per_epoch=result_x.shape[0] / 35,\n",
    "                              validation_data = (valid_disp, valid_y),\n",
    "                              epochs=10)\n",
    "\n",
    "# Plot training & validation accuracy values\n",
    "plt.plot(history.history['acc'])\n",
    "plt.plot(history.history['val_acc'])\n",
    "plt.title('Model accuracy')\n",
    "plt.ylabel('Accuracy')\n",
    "plt.xlabel('Epoch')\n",
    "plt.legend(['Train', 'Test'], loc='upper left')\n",
    "plt.show()\n",
    "\n",
    "# Plot training & validation loss values\n",
    "plt.plot(history.history['loss'])\n",
    "plt.plot(history.history['val_loss'])\n",
    "plt.title('Model loss')\n",
    "plt.ylabel('Loss')\n",
    "plt.xlabel('Epoch')\n",
    "plt.legend(['Train', 'Test'], loc='upper left')\n",
    "plt.show()"
   ]
  },
  {
   "cell_type": "code",
   "execution_count": 23,
   "metadata": {},
   "outputs": [
    {
     "name": "stdout",
     "output_type": "stream",
     "text": [
      "Epoch 1/20\n",
      "2160/2160 [==============================] - 139s 64ms/step - loss: 0.0153 - acc: 0.9958 - val_loss: 0.2970 - val_acc: 0.9812\n",
      "Epoch 2/20\n",
      "2160/2160 [==============================] - 146s 68ms/step - loss: 0.0142 - acc: 0.9959 - val_loss: 0.2157 - val_acc: 0.9864\n",
      "Epoch 3/20\n",
      "2160/2160 [==============================] - 163s 75ms/step - loss: 0.0170 - acc: 0.9953 - val_loss: 0.2757 - val_acc: 0.9824\n",
      "Epoch 4/20\n",
      "2160/2160 [==============================] - 171s 79ms/step - loss: 0.0139 - acc: 0.9960 - val_loss: 0.3524 - val_acc: 0.9774\n",
      "Epoch 5/20\n",
      "2160/2160 [==============================] - 154s 71ms/step - loss: 0.0158 - acc: 0.9956 - val_loss: 0.1747 - val_acc: 0.9886\n",
      "Epoch 6/20\n",
      "2160/2160 [==============================] - 151s 70ms/step - loss: 0.0133 - acc: 0.9965 - val_loss: 0.2320 - val_acc: 0.9852\n",
      "Epoch 7/20\n",
      "2160/2160 [==============================] - 156s 72ms/step - loss: 0.0121 - acc: 0.9967 - val_loss: 0.2380 - val_acc: 0.9852\n",
      "Epoch 8/20\n",
      "2160/2160 [==============================] - 133s 62ms/step - loss: 0.0143 - acc: 0.9959 - val_loss: 0.2676 - val_acc: 0.9829\n",
      "Epoch 9/20\n",
      "2160/2160 [==============================] - 143s 66ms/step - loss: 0.0121 - acc: 0.9968 - val_loss: 0.3692 - val_acc: 0.9767\n",
      "Epoch 10/20\n",
      "2160/2160 [==============================] - 155s 72ms/step - loss: 0.0127 - acc: 0.9967 - val_loss: 0.2332 - val_acc: 0.9855\n",
      "Epoch 11/20\n",
      "2160/2160 [==============================] - 151s 70ms/step - loss: 0.0134 - acc: 0.9963 - val_loss: 0.3772 - val_acc: 0.9762\n",
      "Epoch 12/20\n",
      "2160/2160 [==============================] - 144s 67ms/step - loss: 0.0117 - acc: 0.9969 - val_loss: 0.2922 - val_acc: 0.9817\n",
      "Epoch 13/20\n",
      "2160/2160 [==============================] - 146s 67ms/step - loss: 0.0128 - acc: 0.9966 - val_loss: 0.2996 - val_acc: 0.9812\n",
      "Epoch 14/20\n",
      "2160/2160 [==============================] - 146s 68ms/step - loss: 0.0119 - acc: 0.9970 - val_loss: 0.2083 - val_acc: 0.9869\n",
      "Epoch 15/20\n",
      "2160/2160 [==============================] - 145s 67ms/step - loss: 0.0138 - acc: 0.9964 - val_loss: 0.8290 - val_acc: 0.9481\n",
      "Epoch 16/20\n",
      "2160/2160 [==============================] - 151s 70ms/step - loss: 0.0110 - acc: 0.9970 - val_loss: 0.4888 - val_acc: 0.9693\n",
      "Epoch 17/20\n",
      "2160/2160 [==============================] - 134s 62ms/step - loss: 0.0126 - acc: 0.9969 - val_loss: 0.2794 - val_acc: 0.9821\n",
      "Epoch 18/20\n",
      "2160/2160 [==============================] - 131s 61ms/step - loss: 0.0121 - acc: 0.9969 - val_loss: 0.2034 - val_acc: 0.9874\n",
      "Epoch 19/20\n",
      "2160/2160 [==============================] - 150s 70ms/step - loss: 0.0113 - acc: 0.9974 - val_loss: 0.2959 - val_acc: 0.9814\n",
      "Epoch 20/20\n",
      "2160/2160 [==============================] - 152s 70ms/step - loss: 0.0115 - acc: 0.9970 - val_loss: 0.4478 - val_acc: 0.9717\n"
     ]
    },
    {
     "data": {
      "image/png": "[encoded data removed]",
      "text/plain": [
       "<Figure size 432x288 with 1 Axes>"
      ]
     },
     "metadata": {},
     "output_type": "display_data"
    },
    {
     "data": {
      "image/png": "[encoded data removed]",
      "text/plain": [
       "<Figure size 432x288 with 1 Axes>"
      ]
     },
     "metadata": {},
     "output_type": "display_data"
    }
   ],
   "source": [
    "# test by changing epoch to 10\n",
    "history = model.fit_generator(datagen.flow(result_x, result_y, batch_size=35),\n",
    "                              steps_per_epoch=result_x.shape[0] / 35,\n",
    "                              validation_data = (valid_disp, valid_y),\n",
    "                              epochs=20)\n",
    "\n",
    "# Plot training & validation accuracy values\n",
    "plt.plot(history.history['acc'])\n",
    "plt.plot(history.history['val_acc'])\n",
    "plt.title('Model accuracy')\n",
    "plt.ylabel('Accuracy')\n",
    "plt.xlabel('Epoch')\n",
    "plt.legend(['Train', 'Test'], loc='upper left')\n",
    "plt.show()\n",
    "\n",
    "# Plot training & validation loss values\n",
    "plt.plot(history.history['loss'])\n",
    "plt.plot(history.history['val_loss'])\n",
    "plt.title('Model loss')\n",
    "plt.ylabel('Loss')\n",
    "plt.xlabel('Epoch')\n",
    "plt.legend(['Train', 'Test'], loc='upper left')\n",
    "plt.show()"
   ]
  },
  {
   "cell_type": "code",
   "execution_count": 24,
   "metadata": {},
   "outputs": [
    {
     "name": "stdout",
     "output_type": "stream",
     "text": [
      "4200/4200 [==============================] - 2s 500us/step\n",
      "[0.4477679001353681, 0.9716666666666667]\n"
     ]
    }
   ],
   "source": [
    "scores = model.evaluate(valid_disp, valid_y)\n",
    "print(scores)"
   ]
  },
  {
   "cell_type": "markdown",
   "metadata": {},
   "source": [
    "## Predictions on test set"
   ]
  },
  {
   "cell_type": "code",
   "execution_count": 25,
   "metadata": {},
   "outputs": [],
   "source": [
    "test_disp = np.array(test_df).reshape(-1, 28, 28, 1)"
   ]
  },
  {
   "cell_type": "code",
   "execution_count": 26,
   "metadata": {},
   "outputs": [],
   "source": [
    "predictions = model.predict(test_disp)"
   ]
  },
  {
   "cell_type": "code",
   "execution_count": 27,
   "metadata": {},
   "outputs": [],
   "source": [
    "results = np.argmax(predictions,axis = 1)"
   ]
  },
  {
   "cell_type": "code",
   "execution_count": 28,
   "metadata": {},
   "outputs": [
    {
     "data": {
      "text/plain": [
       "28000"
      ]
     },
     "execution_count": 28,
     "metadata": {},
     "output_type": "execute_result"
    }
   ],
   "source": [
    "len(predictions)"
   ]
  },
  {
   "cell_type": "code",
   "execution_count": 29,
   "metadata": {},
   "outputs": [],
   "source": [
    "submission = pd.DataFrame({\n",
    "        \"ImageId\" : list(range(1,28001)),\n",
    "        \"Label\" : list(results)})\n",
    "submission.to_csv(\"submission.csv\",index=False)"
   ]
  },
  {
   "cell_type": "code",
   "execution_count": 30,
   "metadata": {},
   "outputs": [
    {
     "data": {
      "text/html": [
       "<div>\n",
       "<style scoped>\n",
       "    .dataframe tbody tr th:only-of-type {\n",
       "        vertical-align: middle;\n",
       "    }\n",
       "\n",
       "    .dataframe tbody tr th {\n",
       "        vertical-align: top;\n",
       "    }\n",
       "\n",
       "    .dataframe thead th {\n",
       "        text-align: right;\n",
       "    }\n",
       "</style>\n",
       "<table border=\"1\" class=\"dataframe\">\n",
       "  <thead>\n",
       "    <tr style=\"text-align: right;\">\n",
       "      <th></th>\n",
       "      <th>ImageId</th>\n",
       "      <th>Label</th>\n",
       "    </tr>\n",
       "  </thead>\n",
       "  <tbody>\n",
       "    <tr>\n",
       "      <th>0</th>\n",
       "      <td>1</td>\n",
       "      <td>2</td>\n",
       "    </tr>\n",
       "    <tr>\n",
       "      <th>1</th>\n",
       "      <td>2</td>\n",
       "      <td>0</td>\n",
       "    </tr>\n",
       "    <tr>\n",
       "      <th>2</th>\n",
       "      <td>3</td>\n",
       "      <td>9</td>\n",
       "    </tr>\n",
       "    <tr>\n",
       "      <th>3</th>\n",
       "      <td>4</td>\n",
       "      <td>0</td>\n",
       "    </tr>\n",
       "    <tr>\n",
       "      <th>4</th>\n",
       "      <td>5</td>\n",
       "      <td>3</td>\n",
       "    </tr>\n",
       "  </tbody>\n",
       "</table>\n",
       "</div>"
      ],
      "text/plain": [
       "   ImageId  Label\n",
       "0        1      2\n",
       "1        2      0\n",
       "2        3      9\n",
       "3        4      0\n",
       "4        5      3"
      ]
     },
     "execution_count": 30,
     "metadata": {},
     "output_type": "execute_result"
    }
   ],
   "source": [
    "submission.head()"
   ]
  },
  {
   "cell_type": "code",
   "execution_count": 31,
   "metadata": {},
   "outputs": [],
   "source": [
    "predictions_noaug = model.predict(test_disp)"
   ]
  },
  {
   "cell_type": "code",
   "execution_count": 32,
   "metadata": {},
   "outputs": [],
   "source": [
    "results = np.argmax(predictions_noaug,axis = 1)"
   ]
  },
  {
   "cell_type": "code",
   "execution_count": 33,
   "metadata": {},
   "outputs": [
    {
     "data": {
      "text/plain": [
       "28000"
      ]
     },
     "execution_count": 33,
     "metadata": {},
     "output_type": "execute_result"
    }
   ],
   "source": [
    "len(results)"
   ]
  },
  {
   "cell_type": "code",
   "execution_count": 34,
   "metadata": {},
   "outputs": [],
   "source": [
    "submission_2 = pd.DataFrame({\n",
    "        \"ImageId\" : list(range(1,28001)),\n",
    "        \"Label\" : list(results)})\n",
    "submission_2.to_csv(\"submission_2.csv\",index=False)"
   ]
  },
  {
   "cell_type": "code",
   "execution_count": null,
   "metadata": {},
   "outputs": [],
   "source": []
  }
 ],
 "metadata": {
  "kernelspec": {
   "display_name": "Python 3",
   "language": "python",
   "name": "python3"
  },
  "language_info": {
   "codemirror_mode": {
    "name": "ipython",
    "version": 3
   },
   "file_extension": ".py",
   "mimetype": "text/x-python",
   "name": "python",
   "nbconvert_exporter": "python",
   "pygments_lexer": "ipython3",
   "version": "3.6.5"
  }
 },
 "nbformat": 4,
 "nbformat_minor": 2
}
